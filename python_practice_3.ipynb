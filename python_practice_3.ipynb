{
  "nbformat": 4,
  "nbformat_minor": 0,
  "metadata": {
    "colab": {
      "provenance": []
    },
    "kernelspec": {
      "name": "python3",
      "display_name": "Python 3"
    },
    "language_info": {
      "name": "python"
    }
  },
  "cells": [
    {
      "cell_type": "markdown",
      "source": [
        "# I. Оператори порівняння та логічні оператори. Умови."
      ],
      "metadata": {
        "id": "qDEi2Pi-4yUC"
      }
    },
    {
      "cell_type": "markdown",
      "source": [
        "1. Створіть цілочисленну змінну зі своїм щасливим або улюбленим числом. Напишіть код, який би автоматизовував наступну задачу.\n",
        "\n",
        "Якщо число парне, помножте його на 2 та виведіть результат на екран.\n",
        "\n",
        "Але якщо число непарне, помножте його на 3 та додайте 1 і виведіть на екран."
      ],
      "metadata": {
        "id": "3v8D4Dkm43Ua"
      }
    },
    {
      "cell_type": "code",
      "execution_count": null,
      "metadata": {
        "id": "dlVjc-Nu4bmb",
        "colab": {
          "base_uri": "https://localhost:8080/"
        },
        "outputId": "d08e1581-2377-4881-d2a5-117d767a33b4"
      },
      "outputs": [
        {
          "output_type": "stream",
          "name": "stdout",
          "text": [
            "44\n"
          ]
        }
      ],
      "source": [
        "lucky_number = 23\n",
        "if lucky_number % 2 == 0:\n",
        "  lucky_number *= 2\n",
        "  print(lucky_number)\n",
        "else:\n",
        "  lucky_number = lucky_number * 3 + 1\n",
        "  print(lucky_number)"
      ]
    },
    {
      "cell_type": "markdown",
      "source": [
        "2. Створіть змінну, що посилається на список. Якщо список пустий, додайте будь-який елемент у кінець списку. Якщо ж ні, то нічого не робіть."
      ],
      "metadata": {
        "id": "H669P0QK5BI_"
      }
    },
    {
      "cell_type": "code",
      "source": [
        "new_list = []\n",
        "if not new_list:\n",
        "  new_list.append(7)"
      ],
      "metadata": {
        "id": "ecWlfra45f6E",
        "colab": {
          "base_uri": "https://localhost:8080/"
        },
        "outputId": "a1091382-d684-4d1f-ab1a-676429b6fc4d"
      },
      "execution_count": null,
      "outputs": [
        {
          "output_type": "execute_result",
          "data": {
            "text/plain": [
              "[7]"
            ]
          },
          "metadata": {},
          "execution_count": 7
        }
      ]
    },
    {
      "cell_type": "markdown",
      "source": [
        "3. Створіть рядок зі своїм імʼям латинкою. Напишіть код, який би автоматизовував наступну задачу.\n",
        "\n",
        "Якщо в імені є літера \"а\"\n",
        " або \"i\", Виведіть на екран повідомлення \"A or I is in the name\".\n",
        "\n",
        "\n",
        "\n",
        "Якщо в імені є літери \"o\" та \"n\", Виведіть на екран повідомлення \"O and N is in the name\".\n",
        "\n",
        "Також якщо в імені немає літери \"о\", але є \"n\", Виведіть на екран повідомлення \"Only N is in the name\".\n",
        "\n",
        "В решті випадків виведіть на екран повідомлення \"There is no N in the name, but there might be O\".\n",
        "\n",
        "Зверніть увагу, що, наприклад, для імені \"Antonina\" буде виведено два повідомлення."
      ],
      "metadata": {
        "id": "h9Y3cMUd5h85"
      }
    },
    {
      "cell_type": "code",
      "source": [
        "surname = \"Dohaieva\"\n",
        "if \"a\" in surname or \"i\" in surname:\n",
        "  print(\"A or I is in the name\")\n",
        "if \"o\" in surname and \"n\" in surname:\n",
        "  print(\"O and N is in the name\")\n",
        "elif \"o\" not in surname and \"n\" in surname:\n",
        "  print(\"Only N is in the name\")\n",
        "else:\n",
        "  print(\"There is no N in the name, but there might be O\")"
      ],
      "metadata": {
        "id": "bUH4LUx35u52",
        "colab": {
          "base_uri": "https://localhost:8080/"
        },
        "outputId": "9d47a162-00aa-41a0-c005-9645503f3fd6"
      },
      "execution_count": null,
      "outputs": [
        {
          "output_type": "stream",
          "name": "stdout",
          "text": [
            "A or I is in the name\n",
            "There is no N in the name, but there might be O\n"
          ]
        }
      ]
    },
    {
      "cell_type": "markdown",
      "source": [
        "# II. Comprehensions."
      ],
      "metadata": {
        "id": "wPCXJv4354cU"
      }
    },
    {
      "cell_type": "markdown",
      "source": [
        "4. Створіть список, використовуючи if (не if-else), range та comprehension."
      ],
      "metadata": {
        "id": "jULLW5jN55Pw"
      }
    },
    {
      "cell_type": "code",
      "source": [
        "comp_list = [x for x in range(70) if x % 7 == 0]"
      ],
      "metadata": {
        "id": "mlZalnVC6W3F",
        "colab": {
          "base_uri": "https://localhost:8080/"
        },
        "outputId": "420b4e66-53c9-41d5-ae22-9c9c9bd58597"
      },
      "execution_count": null,
      "outputs": [
        {
          "output_type": "execute_result",
          "data": {
            "text/plain": [
              "[0, 7, 14, 21, 28, 35, 42, 49, 56, 63]"
            ]
          },
          "metadata": {},
          "execution_count": 17
        }
      ]
    },
    {
      "cell_type": "markdown",
      "source": [
        "5. Створіть словник, використовуючи dict comprehension, що містить if else. Коли слід використовувати comprehensions, а коли їх слід уникати?"
      ],
      "metadata": {
        "id": "LqhEQ4JW6XcC"
      }
    },
    {
      "cell_type": "code",
      "source": [
        "comp_dict = { n:n if n*2 > 40 else 0 for n in range(40) }"
      ],
      "metadata": {
        "id": "1yVaFbOs6hta",
        "colab": {
          "base_uri": "https://localhost:8080/"
        },
        "outputId": "b6d1ef51-7260-4e34-b556-27d07ca195d1"
      },
      "execution_count": null,
      "outputs": [
        {
          "output_type": "execute_result",
          "data": {
            "text/plain": [
              "{0: 0,\n",
              " 1: 0,\n",
              " 2: 0,\n",
              " 3: 0,\n",
              " 4: 0,\n",
              " 5: 0,\n",
              " 6: 0,\n",
              " 7: 0,\n",
              " 8: 0,\n",
              " 9: 0,\n",
              " 10: 0,\n",
              " 11: 0,\n",
              " 12: 0,\n",
              " 13: 0,\n",
              " 14: 0,\n",
              " 15: 0,\n",
              " 16: 0,\n",
              " 17: 0,\n",
              " 18: 0,\n",
              " 19: 0,\n",
              " 20: 0,\n",
              " 21: 21,\n",
              " 22: 22,\n",
              " 23: 23,\n",
              " 24: 24,\n",
              " 25: 25,\n",
              " 26: 26,\n",
              " 27: 27,\n",
              " 28: 28,\n",
              " 29: 29,\n",
              " 30: 30,\n",
              " 31: 31,\n",
              " 32: 32,\n",
              " 33: 33,\n",
              " 34: 34,\n",
              " 35: 35,\n",
              " 36: 36,\n",
              " 37: 37,\n",
              " 38: 38,\n",
              " 39: 39}"
            ]
          },
          "metadata": {},
          "execution_count": 20
        }
      ]
    },
    {
      "cell_type": "markdown",
      "source": [
        "Comprehensions дуже скорочують запис, але їх слід використовувати тільки тоді, коли це не погіршує читабельність. Тобто для доволі простих створень списків/словників слід використовувати, а складніші вже краще розписати без сomprehensions."
      ],
      "metadata": {
        "id": "wbkzNhKq6hzz"
      }
    },
    {
      "cell_type": "markdown",
      "source": [
        "6. Створіть список з рядками та запишіть його у змінну. Створіть ще один список на основі попереднього, де кожен рядок буде містити тільки три перших заглавних символи. Наприклад: ['hello', 'i', 'dont', 'care'] -> ['HEL', 'I', 'DON', 'CAR']. Використання comprehensions обовʼязкове."
      ],
      "metadata": {
        "id": "ZlqB8G3G6lHP"
      }
    },
    {
      "cell_type": "code",
      "source": [
        "word_list = [\"rock\", \"scissors\", \"paper\", \"lizard\", \"i\"]\n",
        "trimmed_word_list = [i[:3].upper() for i in word_list]\n",
        "trimmed_word_list"
      ],
      "metadata": {
        "id": "nw6rz0bR60VC",
        "colab": {
          "base_uri": "https://localhost:8080/"
        },
        "outputId": "ff8ba891-edad-43fa-9a78-e5a6b99d3b37"
      },
      "execution_count": null,
      "outputs": [
        {
          "output_type": "execute_result",
          "data": {
            "text/plain": [
              "['ROC', 'SCI', 'PAP', 'LIZ', 'I']"
            ]
          },
          "metadata": {},
          "execution_count": 25
        }
      ]
    },
    {
      "cell_type": "markdown",
      "source": [
        "# III. Цикли."
      ],
      "metadata": {
        "id": "Tj573IAH64Fz"
      }
    },
    {
      "cell_type": "markdown",
      "source": [
        "7. Продемонструйте роботу циклу while. Не можна використовувати True для запуску циклу, щоб уникнути безкінечного циклу!"
      ],
      "metadata": {
        "id": "tN_33xdE65H5"
      }
    },
    {
      "cell_type": "code",
      "source": [
        "j = 2\n",
        "while j < 50:\n",
        "  print(j)\n",
        "  j += 5"
      ],
      "metadata": {
        "id": "Kd9FO6yG63P5",
        "colab": {
          "base_uri": "https://localhost:8080/"
        },
        "outputId": "aa58d97d-2bce-4977-85dc-539c7c1462c9"
      },
      "execution_count": null,
      "outputs": [
        {
          "output_type": "stream",
          "name": "stdout",
          "text": [
            "2\n",
            "7\n",
            "12\n",
            "17\n",
            "22\n",
            "27\n",
            "32\n",
            "37\n",
            "42\n",
            "47\n"
          ]
        }
      ]
    },
    {
      "cell_type": "markdown",
      "source": [
        "8. Напишіть програму, яка виведе на екран непарні числа в діапазоні від 0 до 20 включно."
      ],
      "metadata": {
        "id": "x2CmfZO-7pW0"
      }
    },
    {
      "cell_type": "code",
      "source": [
        "for k in range(21):\n",
        "  if k % 2 == 1:\n",
        "    print(k)"
      ],
      "metadata": {
        "id": "aCSRYA6s7tkF",
        "colab": {
          "base_uri": "https://localhost:8080/"
        },
        "outputId": "b7c9d4c1-d27c-4b29-b291-553ff412b024"
      },
      "execution_count": null,
      "outputs": [
        {
          "output_type": "stream",
          "name": "stdout",
          "text": [
            "1\n",
            "3\n",
            "5\n",
            "7\n",
            "9\n",
            "11\n",
            "13\n",
            "15\n",
            "17\n",
            "19\n"
          ]
        }
      ]
    },
    {
      "cell_type": "markdown",
      "source": [
        "9. Створіть список з елементами булевого типу або None. Використовуючи цикли, отримайте в результаті список з кортежами, де перший елемент кортежу - індекс(ціле число), а другий елемент - відповідне значення з першого списку.\n",
        "\n",
        "Наприклад, [True, True, None, False] -> [(0, True), (1, True), (2, None), (3, False)]"
      ],
      "metadata": {
        "id": "MDWNocZD7t_B"
      }
    },
    {
      "cell_type": "code",
      "source": [
        "bool_list = [True, False, True, True, True, None]\n",
        "tuple_bool_list = []\n",
        "counter = 0\n",
        "for b in bool_list:\n",
        "  tuple_bool_list.append((counter, b))\n",
        "  counter += 1"
      ],
      "metadata": {
        "id": "0EUyjMdp7yfh",
        "colab": {
          "base_uri": "https://localhost:8080/"
        },
        "outputId": "97567d4f-47d1-40d8-99c7-dd4b41b92ee1"
      },
      "execution_count": null,
      "outputs": [
        {
          "output_type": "execute_result",
          "data": {
            "text/plain": [
              "[(0, True), (1, False), (2, True), (3, True), (4, True), (5, None)]"
            ]
          },
          "metadata": {},
          "execution_count": 33
        }
      ]
    },
    {
      "cell_type": "markdown",
      "source": [
        "10. Створіть словник, де ключі - назви книжок, а значення - їхня кількість у наявності в Вашій міні-бібліотеці. Бібліотека має містити щонайменше 6 книжок (6 пар значень у словнику) і щонайбільше 10 (пар значень). Використовуючи цикли, оновіть словник (не створюйте новий) так, щоби кількість книг у наявності збільшилося на 5 кожної книги. Наприклад,\n",
        "{'It': 3, 'Fault stars': 10, 'Bible': 17, 'Psychological romance': 4, 'Harry Potter': 13} -> {'It': 8, 'Fault stars': 15, 'Bible': 22, 'Psychological romance': 9, 'Harry Potter': 18}"
      ],
      "metadata": {
        "id": "-6XUqlcG7zKs"
      }
    },
    {
      "cell_type": "code",
      "source": [
        "books = {\"The Moonstone\": 3, \"Great Expectations\": 1, \"Tom Jones\": 4, \"Oliver Twist\": 1, \"The Woman in White\": 5, \"The stranger\": 2, \"The Plague\": 6}\n",
        "for name in books:\n",
        "  books[name] += 5"
      ],
      "metadata": {
        "id": "Ceoj9wwb791q",
        "colab": {
          "base_uri": "https://localhost:8080/"
        },
        "outputId": "764187ca-5ba9-4a6a-ccdc-547e0306d34f"
      },
      "execution_count": null,
      "outputs": [
        {
          "output_type": "execute_result",
          "data": {
            "text/plain": [
              "{'The Moonstone': 8,\n",
              " 'Great Expectations': 6,\n",
              " 'Tom Jones': 9,\n",
              " 'Oliver Twist': 6,\n",
              " 'The Woman in White': 10,\n",
              " 'The stranger': 7,\n",
              " 'The Plague': 11}"
            ]
          },
          "metadata": {},
          "execution_count": 35
        }
      ]
    },
    {
      "cell_type": "markdown",
      "source": [
        "11. Визначте цілочислену змінну n, що належить проміжку від 4 до 10 включно. Використовуючи цикли, виведіть в консоль наступний патерн.\n",
        "\n",
        "#\n",
        "##\n",
        "###\n",
        "####\n",
        "\n",
        "... #*n\n"
      ],
      "metadata": {
        "id": "QLzyJM288AC7"
      }
    },
    {
      "cell_type": "code",
      "source": [
        "n = 8\n",
        "for s in range(n):\n",
        "  print(\"#\"*(s+1))"
      ],
      "metadata": {
        "id": "KOpng87s8Duz",
        "colab": {
          "base_uri": "https://localhost:8080/"
        },
        "outputId": "7d8c14b2-ee25-4216-be3a-8853a23d3779"
      },
      "execution_count": null,
      "outputs": [
        {
          "output_type": "stream",
          "name": "stdout",
          "text": [
            "#\n",
            "##\n",
            "###\n",
            "####\n",
            "#####\n",
            "######\n",
            "#######\n",
            "########\n"
          ]
        }
      ]
    },
    {
      "cell_type": "markdown",
      "source": [
        "12. Гра \"Нумо вгадай\".\n",
        "Розробіть просту гру, де користувач має вгадати випадкове число від 1 до 100. Для генерації випадкового числа використовуйте функцію random.randint(a, b) (тут a та b включно). Для отримання числа з консолі використовуйте функцію input(), результат якої обовʼязково явно приведіть до типу int.\n",
        "\n",
        "Підказка: використовуйте цикл while та умови if-else, щоб повідомити користувачу піказки (напр. \"Більше\", \"Менше\") поки користувач не вгадає. По завершенню виведіть кількість спроб, які знадобилися для вгадування."
      ],
      "metadata": {
        "id": "_bd-bqAT8EHn"
      }
    },
    {
      "cell_type": "code",
      "source": [
        "import random\n",
        "random_number = random.randint(1, 100)\n",
        "user_input = int(input(\"Guess the number:\"))\n",
        "counter = 1\n",
        "\n",
        "while user_input != random_number:\n",
        "  if user_input > random_number:\n",
        "    print(\"This number is smaller than you estimated\")\n",
        "  else:\n",
        "    print(\"This number is bigger than you estimated\")\n",
        "  user_input = int(input(\"Guess the number:\"))\n",
        "  counter += 1\n",
        "\n",
        "print(f\"Congratulations! You guessed in {counter} tries\")"
      ],
      "metadata": {
        "id": "IK9nnxFK8Hkl",
        "colab": {
          "base_uri": "https://localhost:8080/"
        },
        "outputId": "2c6f5fab-23fa-415c-f3ae-4187a446bdf1"
      },
      "execution_count": null,
      "outputs": [
        {
          "output_type": "stream",
          "name": "stdout",
          "text": [
            "Guess the number:45\n",
            "This number is bigger than you estimated\n",
            "Guess the number:89\n",
            "This number is smaller than you estimated\n",
            "Guess the number:77\n",
            "This number is smaller than you estimated\n",
            "Guess the number:64\n",
            "This number is bigger than you estimated\n",
            "Guess the number:69\n",
            "This number is smaller than you estimated\n",
            "Guess the number:67\n",
            "This number is smaller than you estimated\n",
            "Guess the number:66\n",
            "This number is smaller than you estimated\n",
            "Guess the number:65\n",
            "Congratulations! You guessed in 8 tries\n"
          ]
        }
      ]
    },
    {
      "cell_type": "markdown",
      "source": [
        "# Вітаю! Ви велика(ий) молодець, що впоралась(вся). Похваліть себе та побалуйте чимось приємним. Я Вами пишаюся."
      ],
      "metadata": {
        "id": "PXoXWb7Z8IGi"
      }
    }
  ]
}